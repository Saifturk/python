{
 "cells": [
  {
   "cell_type": "code",
   "execution_count": null,
   "id": "c795a19a-d863-43f7-936f-2366c917cbbf",
   "metadata": {},
   "outputs": [
    {
     "name": "stdout",
     "output_type": "stream",
     "text": [
      "\n",
      "Options:\n",
      "1. Add item\n",
      "2. Remove item\n",
      "3. Display list\n",
      "4. Quit\n"
     ]
    },
    {
     "name": "stdin",
     "output_type": "stream",
     "text": [
      "Enter your choice (1-4):  1\n",
      "Enter the item to add:  apple,banana,coconut,strawberry\n"
     ]
    },
    {
     "name": "stdout",
     "output_type": "stream",
     "text": [
      "Added apple,banana,coconut,strawberry to the list.\n",
      "\n",
      "Options:\n",
      "1. Add item\n",
      "2. Remove item\n",
      "3. Display list\n",
      "4. Quit\n"
     ]
    },
    {
     "name": "stdin",
     "output_type": "stream",
     "text": [
      "Enter your choice (1-4):  3\n"
     ]
    },
    {
     "name": "stdout",
     "output_type": "stream",
     "text": [
      "Current grocery list:\n",
      "- apple,banana,coconut,strawberry\n",
      "\n",
      "Options:\n",
      "1. Add item\n",
      "2. Remove item\n",
      "3. Display list\n",
      "4. Quit\n"
     ]
    },
    {
     "name": "stdin",
     "output_type": "stream",
     "text": [
      "Enter your choice (1-4):  2\n",
      "Enter the item to remove:  apple\n"
     ]
    },
    {
     "name": "stdout",
     "output_type": "stream",
     "text": [
      "apple is not in the list.\n",
      "\n",
      "Options:\n",
      "1. Add item\n",
      "2. Remove item\n",
      "3. Display list\n",
      "4. Quit\n"
     ]
    }
   ],
   "source": [
    "class GroceryList:\n",
    "    def __init__(self):\n",
    "        self.items = []\n",
    "\n",
    "    def add_item(self, item):\n",
    "        if item not in self.items:\n",
    "            self.items.append(item)\n",
    "            print(f'Added {item} to the list.')\n",
    "        else:\n",
    "            print(f'{item} is already in the list.')\n",
    "\n",
    "    def remove_item(self, item):\n",
    "        if item in self.items:\n",
    "            self.items.remove(item)\n",
    "            print(f'Removed {item} from the list.')\n",
    "        else:\n",
    "            print(f'{item} is not in the list.')\n",
    "\n",
    "    def display_list(self):\n",
    "        if self.items:\n",
    "            print('Current grocery list:')\n",
    "            for item in self.items:\n",
    "                print(f'- {item}')\n",
    "        else:\n",
    "            print('The grocery list is empty.')\n",
    "\n",
    "def main():\n",
    "    grocery_list = GroceryList()\n",
    "    while True:\n",
    "        print(\"\\nOptions:\")\n",
    "        print(\"1. Add item\")\n",
    "        print(\"2. Remove item\")\n",
    "        print(\"3. Display list\")\n",
    "        print(\"4. Quit\")\n",
    "\n",
    "        choice = input(\"Enter your choice (1-4): \")\n",
    "\n",
    "        if choice == '1':\n",
    "            item = input(\"Enter the item to add: \")\n",
    "            grocery_list.add_item(item)\n",
    "        elif choice == '2':\n",
    "            item = input(\"Enter the item to remove: \")\n",
    "            grocery_list.remove_item(item)\n",
    "        elif choice == '3':\n",
    "            grocery_list.display_list()\n",
    "        elif choice == '4':\n",
    "            print(\"Goodbye!\")\n",
    "            break\n",
    "        else:\n",
    "            print(\"Invalid choice. Please enter a number between 1 and 4.\")\n",
    "\n",
    "if __name__ == \"__main__\":\n",
    "    main()"
   ]
  },
  {
   "cell_type": "code",
   "execution_count": 11,
   "id": "8ad487e4-170c-4c3b-8d55-11f231f8d911",
   "metadata": {},
   "outputs": [
    {
     "name": "stdout",
     "output_type": "stream",
     "text": [
      "Saif: 78\n",
      "Ahmed: 52\n",
      "Ali: 78\n",
      "Jabbar: 82\n",
      "Waqas: 97\n",
      "\n",
      "The average grade of the students is: 77.40\n"
     ]
    }
   ],
   "source": [
    "def calculate_average(grades):\n",
    "    total = sum(grades.values())\n",
    "    count = len(grades)\n",
    "    average = total / count\n",
    "    return average\n",
    "\n",
    "# Example usage\n",
    "if __name__ == \"__main__\":\n",
    "    student_grades = {\n",
    "        \"Saif\": 78,\n",
    "        \"Ahmed\": 52,\n",
    "        \"Ali\": 78,\n",
    "        \"Jabbar\": 82,\n",
    "        \"Waqas\": 97\n",
    "    }\n",
    "\n",
    "    # Display each student's grade\n",
    "    for student, grade in student_grades.items():\n",
    "        print(f\"{student}: {grade}\")\n",
    "\n",
    "    # Calculate and display the average grade\n",
    "    average_grade = calculate_average(student_grades)\n",
    "    print(f\"\\nThe average grade of the students is: {average_grade:.2f}\")"
   ]
  },
  {
   "cell_type": "code",
   "execution_count": 14,
   "id": "fed6ccc0-58fd-460a-8489-d1ee98d37e33",
   "metadata": {},
   "outputs": [
    {
     "name": "stdout",
     "output_type": "stream",
     "text": [
      "apple: 3\n",
      "banana: 2\n",
      "orange: 1\n",
      "grape: 1\n"
     ]
    }
   ],
   "source": [
    "def count_word_frequencies(word_list):\n",
    "    word_count = {}\n",
    "\n",
    "    for word in word_list:\n",
    "        if word in word_count:\n",
    "            word_count[word] += 1\n",
    "        else:\n",
    "            word_count[word] = 1\n",
    "\n",
    "    return word_count\n",
    "\n",
    "# Example usage\n",
    "if __name__ == \"__main__\":\n",
    "    word_list = [\"apple\", \"banana\", \"apple\", \"orange\", \"banana\", \"grape\", \"apple\"]\n",
    "\n",
    "    word_frequencies = count_word_frequencies(word_list)\n",
    "\n",
    "    # Display the word frequencies\n",
    "    for word, count in word_frequencies.items():\n",
    "        print(f\"{word}: {count}\")"
   ]
  },
  {
   "cell_type": "code",
   "execution_count": 15,
   "id": "d225ac9f-5ffc-4b66-8821-6f6947d43382",
   "metadata": {},
   "outputs": [
    {
     "name": "stdin",
     "output_type": "stream",
     "text": [
      "Enter your password:  saif123saif\n"
     ]
    },
    {
     "name": "stdout",
     "output_type": "stream",
     "text": [
      "Strong: Your password meets all the criteria.\n"
     ]
    }
   ],
   "source": [
    "def check_password_strength(password):\n",
    "    if len(password) < 8:\n",
    "        return \"Weak: Password should be at least 8 characters long.\"\n",
    "\n",
    "    has_digit = any(char.isdigit() for char in password)\n",
    "    has_letter = any(char.isalpha() for char in password)\n",
    "\n",
    "    if not has_digit:\n",
    "        return \"Weak: Password should contain at least one digit.\"\n",
    "    if not has_letter:\n",
    "        return \"Weak: Password should contain at least one letter.\"\n",
    "\n",
    "    return \"Strong: Your password meets all the criteria.\"\n",
    "\n",
    "# Example usage\n",
    "if __name__ == \"__main__\":\n",
    "    password = input(\"Enter your password: \")\n",
    "    result = check_password_strength(password)\n",
    "    print(result)"
   ]
  },
  {
   "cell_type": "code",
   "execution_count": 1,
   "id": "dcb9fe40-2bca-441c-a921-9c9bc73c3bea",
   "metadata": {},
   "outputs": [
    {
     "name": "stdout",
     "output_type": "stream",
     "text": [
      "Welcome to the Annual Employee Recognition Awards Voting System!\n"
     ]
    },
    {
     "name": "stdin",
     "output_type": "stream",
     "text": [
      "Enter the number of voters:  3\n"
     ]
    },
    {
     "name": "stdout",
     "output_type": "stream",
     "text": [
      "\n",
      "Voter 1, it's your turn.\n",
      "\n",
      "Please vote for your preferred candidate:\n",
      "1. Candidate A\n",
      "2. Candidate B\n",
      "3. Candidate C\n"
     ]
    },
    {
     "name": "stdin",
     "output_type": "stream",
     "text": [
      "Enter the number corresponding to your choice:  1\n"
     ]
    },
    {
     "name": "stdout",
     "output_type": "stream",
     "text": [
      "Vote recorded for Candidate A.\n",
      "\n",
      "Voter 2, it's your turn.\n",
      "\n",
      "Please vote for your preferred candidate:\n",
      "1. Candidate A\n",
      "2. Candidate B\n",
      "3. Candidate C\n"
     ]
    },
    {
     "name": "stdin",
     "output_type": "stream",
     "text": [
      "Enter the number corresponding to your choice:  2\n"
     ]
    },
    {
     "name": "stdout",
     "output_type": "stream",
     "text": [
      "Vote recorded for Candidate B.\n",
      "\n",
      "Voter 3, it's your turn.\n",
      "\n",
      "Please vote for your preferred candidate:\n",
      "1. Candidate A\n",
      "2. Candidate B\n",
      "3. Candidate C\n"
     ]
    },
    {
     "name": "stdin",
     "output_type": "stream",
     "text": [
      "Enter the number corresponding to your choice:  3\n"
     ]
    },
    {
     "name": "stdout",
     "output_type": "stream",
     "text": [
      "Vote recorded for Candidate C.\n",
      "\n",
      "Voting Results:\n",
      "Candidate A: 1 vote(s)\n",
      "Candidate B: 1 vote(s)\n",
      "Candidate C: 1 vote(s)\n"
     ]
    }
   ],
   "source": [
    "def display_candidates(candidates):\n",
    "    print(\"\\nPlease vote for your preferred candidate:\")\n",
    "    for idx, candidate in enumerate(candidates, start=1):\n",
    "        print(f\"{idx}. {candidate}\")\n",
    "\n",
    "def get_valid_vote(num_candidates):\n",
    "    while True:\n",
    "        try:\n",
    "            vote = int(input(\"Enter the number corresponding to your choice: \"))\n",
    "            if 1 <= vote <= num_candidates:\n",
    "                return vote\n",
    "            else:\n",
    "                print(f\"Invalid choice. Please enter a number between 1 and {num_candidates}.\")\n",
    "        except ValueError:\n",
    "            print(\"Invalid input. Please enter a valid number.\")\n",
    "\n",
    "def tally_votes(num_voters, candidates):\n",
    "    votes = {candidate: 0 for candidate in candidates}\n",
    "\n",
    "    for i in range(1, num_voters + 1):\n",
    "        print(f\"\\nVoter {i}, it's your turn.\")\n",
    "        display_candidates(candidates)\n",
    "        vote = get_valid_vote(len(candidates))\n",
    "        selected_candidate = candidates[vote - 1]\n",
    "        votes[selected_candidate] += 1\n",
    "        print(f\"Vote recorded for {selected_candidate}.\")\n",
    "\n",
    "    return votes\n",
    "\n",
    "def display_results(votes):\n",
    "    print(\"\\nVoting Results:\")\n",
    "    for candidate, vote_count in votes.items():\n",
    "        print(f\"{candidate}: {vote_count} vote(s)\")\n",
    "\n",
    "def main():\n",
    "    print(\"Welcome to the Annual Employee Recognition Awards Voting System!\")\n",
    "\n",
    "    # List of candidates\n",
    "    candidates = ['Candidate A', 'Candidate B', 'Candidate C']\n",
    "\n",
    "    # Get the number of voters\n",
    "    while True:\n",
    "        try:\n",
    "            num_voters = int(input(\"Enter the number of voters: \"))\n",
    "            if num_voters > 0:\n",
    "                break\n",
    "            else:\n",
    "                print(\"The number of voters must be a positive integer.\")\n",
    "        except ValueError:\n",
    "            print(\"Invalid input. Please enter a valid number.\")\n",
    "\n",
    "    # Tally the votes\n",
    "    votes = tally_votes(num_voters, candidates)\n",
    "\n",
    "    # Display the results\n",
    "    display_results(votes)\n",
    "\n",
    "if __name__ == \"__main__\":\n",
    "    main()\n"
   ]
  },
  {
   "cell_type": "code",
   "execution_count": null,
   "id": "6256deec-1f40-4140-b9f5-94b8196b774a",
   "metadata": {},
   "outputs": [],
   "source": []
  }
 ],
 "metadata": {
  "kernelspec": {
   "display_name": "Python 3 (ipykernel)",
   "language": "python",
   "name": "python3"
  },
  "language_info": {
   "codemirror_mode": {
    "name": "ipython",
    "version": 3
   },
   "file_extension": ".py",
   "mimetype": "text/x-python",
   "name": "python",
   "nbconvert_exporter": "python",
   "pygments_lexer": "ipython3",
   "version": "3.11.7"
  }
 },
 "nbformat": 4,
 "nbformat_minor": 5
}
