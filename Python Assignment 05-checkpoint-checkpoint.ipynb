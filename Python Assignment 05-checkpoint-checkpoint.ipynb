{
 "cells": [
  {
   "cell_type": "code",
   "execution_count": 1,
   "id": "5f93fc48-c30a-4ede-b7c8-2b5d12794f49",
   "metadata": {},
   "outputs": [
    {
     "name": "stdout",
     "output_type": "stream",
     "text": [
      "1\n",
      "2\n",
      "3\n",
      "4\n",
      "5\n",
      "6\n",
      "7\n",
      "8\n",
      "9\n",
      "10\n"
     ]
    }
   ],
   "source": [
    "for i in range(1, 11):\n",
    "    print(i)\n",
    "    "
   ]
  },
  {
   "cell_type": "code",
   "execution_count": 2,
   "id": "b14ef261-2542-42f7-987e-2629086c5d5a",
   "metadata": {},
   "outputs": [
    {
     "name": "stdout",
     "output_type": "stream",
     "text": [
      "20\n",
      "19\n",
      "18\n",
      "17\n",
      "16\n",
      "15\n",
      "14\n",
      "13\n",
      "12\n",
      "11\n",
      "10\n",
      "9\n",
      "8\n",
      "7\n",
      "6\n",
      "5\n",
      "4\n",
      "3\n",
      "2\n",
      "1\n"
     ]
    }
   ],
   "source": [
    "number = 20\n",
    "\n",
    "while number >= 1:\n",
    "    print(number)\n",
    "    number -= 1\n",
    "    "
   ]
  },
  {
   "cell_type": "code",
   "execution_count": 3,
   "id": "76129cba-e315-4ec9-88dc-e7a06adc4cb2",
   "metadata": {},
   "outputs": [
    {
     "name": "stdout",
     "output_type": "stream",
     "text": [
      "2\n",
      "4\n",
      "6\n",
      "8\n",
      "10\n"
     ]
    }
   ],
   "source": [
    "for i in range(1, 11):\n",
    "    if i % 2 == 0:\n",
    "        print(i)\n",
    "        "
   ]
  },
  {
   "cell_type": "code",
   "execution_count": 4,
   "id": "bc745c1d-27aa-4003-b50e-a22ef91c73e0",
   "metadata": {},
   "outputs": [
    {
     "name": "stdin",
     "output_type": "stream",
     "text": [
      "Enter a number:  2\n"
     ]
    },
    {
     "name": "stdout",
     "output_type": "stream",
     "text": [
      "1\n",
      "2\n"
     ]
    }
   ],
   "source": [
    "n = int(input(\"Enter a number: \"))\n",
    "\n",
    "# Print numbers from 1 to n\n",
    "for i in range(1, n + 1):\n",
    "    print(i)"
   ]
  },
  {
   "cell_type": "code",
   "execution_count": 5,
   "id": "5bf74823-7ea1-4ae2-964f-1d65ffcb2141",
   "metadata": {},
   "outputs": [
    {
     "name": "stdin",
     "output_type": "stream",
     "text": [
      "Enter a number:  2\n"
     ]
    },
    {
     "name": "stdout",
     "output_type": "stream",
     "text": [
      "1\n"
     ]
    }
   ],
   "source": [
    "# Prompt the user to enter a number\n",
    "n = int(input(\"Enter a number: \"))\n",
    "\n",
    "# Print odd numbers from 1 to n\n",
    "for i in range(1, n + 1):\n",
    "    if i % 2 != 0:\n",
    "        print(i)\n",
    "        "
   ]
  },
  {
   "cell_type": "code",
   "execution_count": 6,
   "id": "6ea620dc-c0e1-40dd-a057-ce0ae7c5a823",
   "metadata": {},
   "outputs": [
    {
     "name": "stdout",
     "output_type": "stream",
     "text": [
      "Happy Birthday!\n",
      "Happy Birthday!\n",
      "Happy Birthday!\n",
      "Happy Birthday!\n",
      "Happy Birthday!\n"
     ]
    }
   ],
   "source": [
    "for _ in range(5):\n",
    "    print(\"Happy Birthday!\")\n",
    "    "
   ]
  },
  {
   "cell_type": "code",
   "execution_count": 7,
   "id": "c7cac251-e60e-49ea-a1da-ab58263f2a39",
   "metadata": {},
   "outputs": [
    {
     "name": "stdin",
     "output_type": "stream",
     "text": [
      "Enter a number:  2\n"
     ]
    },
    {
     "name": "stdout",
     "output_type": "stream",
     "text": [
      "1\n",
      "4\n"
     ]
    }
   ],
   "source": [
    "# Prompt the user to enter a number\n",
    "n = int(input(\"Enter a number: \"))\n",
    "\n",
    "# Generate and print the first n terms of the series\n",
    "for i in range(1, n + 1):\n",
    "    print(i ** 2)\n",
    "    "
   ]
  },
  {
   "cell_type": "code",
   "execution_count": 8,
   "id": "98bd6e6c-a048-4164-85f4-1820f3cc16f9",
   "metadata": {},
   "outputs": [
    {
     "name": "stdin",
     "output_type": "stream",
     "text": [
      "Enter a number:  22\n"
     ]
    },
    {
     "name": "stdout",
     "output_type": "stream",
     "text": [
      "The first 22 terms of the series are:\n",
      "1 4 9 16 25 36 49 64 81 100 121 144 169 196 225 256 289 324 361 400 441 484\n"
     ]
    }
   ],
   "source": [
    "# Prompt the user to enter a number\n",
    "n = int(input(\"Enter a number: \"))\n",
    "\n",
    "# Generate the series and store the terms in a list\n",
    "series = [i ** 2 for i in range(1, n + 1)]\n",
    "\n",
    "# Print the result\n",
    "print(f\"The first {n} terms of the series are:\")\n",
    "print(\" \".join(map(str, series)))"
   ]
  },
  {
   "cell_type": "code",
   "execution_count": 9,
   "id": "75c63e56-16d5-4549-8318-568b9ad5326a",
   "metadata": {},
   "outputs": [
    {
     "name": "stdin",
     "output_type": "stream",
     "text": [
      "Enter a number:  2\n"
     ]
    },
    {
     "name": "stdout",
     "output_type": "stream",
     "text": [
      "Multiplication table for 2:\n",
      "2 x 1 = 2\n",
      "2 x 2 = 4\n",
      "2 x 3 = 6\n",
      "2 x 4 = 8\n",
      "2 x 5 = 10\n",
      "2 x 6 = 12\n",
      "2 x 7 = 14\n",
      "2 x 8 = 16\n",
      "2 x 9 = 18\n",
      "2 x 10 = 20\n"
     ]
    }
   ],
   "source": [
    "# Prompt the user to enter a number\n",
    "number = int(input(\"Enter a number: \"))\n",
    "\n",
    "# Print the multiplication table\n",
    "print(f\"Multiplication table for {number}:\")\n",
    "for i in range(1, 11):\n",
    "    print(f\"{number} x {i} = {number * i}\")"
   ]
  },
  {
   "cell_type": "code",
   "execution_count": 10,
   "id": "6249b48e-236f-43e9-b6fc-fbd7cb856c98",
   "metadata": {},
   "outputs": [
    {
     "name": "stdout",
     "output_type": "stream",
     "text": [
      "The first 8 terms of the arithmetic progression are:\n",
      "3 7 11 15 19 23 27 31 "
     ]
    }
   ],
   "source": [
    "# Initialize the starting term and common difference\n",
    "start = 3\n",
    "common_difference = 4\n",
    "\n",
    "# Generate and print the first 8 terms of the arithmetic progression\n",
    "print(\"The first 8 terms of the arithmetic progression are:\")\n",
    "for i in range(8):\n",
    "    term = start + i * common_difference\n",
    "    print(term, end=\" \")"
   ]
  },
  {
   "cell_type": "code",
   "execution_count": 11,
   "id": "761d3148-27bd-4a17-b28c-103e8966eacb",
   "metadata": {},
   "outputs": [
    {
     "name": "stdout",
     "output_type": "stream",
     "text": [
      "2 6 18 54 162 486 "
     ]
    }
   ],
   "source": [
    "# Initial term\n",
    "a = 2\n",
    "\n",
    "# Common ratio\n",
    "r = 3\n",
    "\n",
    "# Number of terms to print\n",
    "n = 6\n",
    "\n",
    "# Loop to calculate and print each term\n",
    "for i in range(n):\n",
    "    term = a * (r ** i)\n",
    "    print(term, end=\" \")"
   ]
  },
  {
   "cell_type": "code",
   "execution_count": 13,
   "id": "372e1934-6d3d-4393-820e-e37e6afb119e",
   "metadata": {},
   "outputs": [
    {
     "name": "stdin",
     "output_type": "stream",
     "text": [
      "Enter a positive integer:  6\n"
     ]
    },
    {
     "name": "stdout",
     "output_type": "stream",
     "text": [
      "The sum of all integers from 1 to 6 is 21.\n"
     ]
    }
   ],
   "source": [
    "number = int(input(\"Enter a positive integer: \"))\n",
    "\n",
    "# Ensure the number is positive\n",
    "if number > 0:\n",
    "    # Calculate the sum of all integers from 1 to the entered number\n",
    "    total_sum = sum(range(1, number + 1))\n",
    "    \n",
    "    # Print the result\n",
    "    print(f\"The sum of all integers from 1 to {number} is {total_sum}.\")\n",
    "else:\n",
    "    print(\"Please enter a positive integer.\")"
   ]
  },
  {
   "cell_type": "code",
   "execution_count": 15,
   "id": "4d56294d-e4db-4e65-ba83-15371fad0119",
   "metadata": {},
   "outputs": [
    {
     "name": "stdin",
     "output_type": "stream",
     "text": [
      "Enter a positive integer:  5\n"
     ]
    },
    {
     "name": "stdout",
     "output_type": "stream",
     "text": [
      "The sum of reciprocals from 1 to 5 is: 2.283333333333333\n"
     ]
    }
   ],
   "source": [
    "def sum_of_reciprocals(N):\n",
    "    # Check if the input is a positive integer\n",
    "    if N <= 0:\n",
    "        return \"Please enter a positive integer.\"\n",
    "\n",
    "    # Initialize the sum to 0\n",
    "    total_sum = 0.0\n",
    "\n",
    "    # Calculate the sum of reciprocals\n",
    "    for i in range(1, N + 1):\n",
    "        total_sum += 1 / i\n",
    "\n",
    "    return total_sum\n",
    "\n",
    "# Input from the user\n",
    "N = int(input(\"Enter a positive integer: \"))\n",
    "\n",
    "# Calculate and display the sum of reciprocals\n",
    "result = sum_of_reciprocals(N)\n",
    "print(\"The sum of reciprocals from 1 to\", N, \"is:\", result)"
   ]
  },
  {
   "cell_type": "code",
   "execution_count": 16,
   "id": "1d8cc953-bfc4-4d99-882e-5ddf149840e8",
   "metadata": {},
   "outputs": [
    {
     "name": "stdin",
     "output_type": "stream",
     "text": [
      "Enter a number:  6\n",
      "Enter a number:  4\n",
      "Enter a number:  5\n",
      "Enter a number:  7\n",
      "Enter a number:  3\n"
     ]
    },
    {
     "name": "stdout",
     "output_type": "stream",
     "text": [
      "The final running total is: 25\n"
     ]
    }
   ],
   "source": [
    "# Initialize the total sum to 0\n",
    "total_sum = 0\n",
    "\n",
    "# Repeat the process 5 times\n",
    "for i in range(5):\n",
    "    number = int(input(\"Enter a number: \"))\n",
    "    total_sum += number\n",
    "\n",
    "# Display the final running total\n",
    "print(\"The final running total is:\", total_sum)"
   ]
  },
  {
   "cell_type": "code",
   "execution_count": 17,
   "id": "a39410a0-0543-444a-b94a-3f7ba471a009",
   "metadata": {},
   "outputs": [
    {
     "name": "stdin",
     "output_type": "stream",
     "text": [
      "Enter the base number:  5\n",
      "Enter the exponent:  2\n"
     ]
    },
    {
     "name": "stdout",
     "output_type": "stream",
     "text": [
      "5.0 raised to the power of 2 is: 25.0\n"
     ]
    }
   ],
   "source": [
    "def power(base, exponent):\n",
    "    # Handle the case where the exponent is zero\n",
    "    if exponent == 0:\n",
    "        return 1\n",
    "    \n",
    "    # Handle positive exponents\n",
    "    result = 1\n",
    "    if exponent > 0:\n",
    "        for _ in range(exponent):\n",
    "            result *= base\n",
    "    # Handle negative exponents\n",
    "    else:\n",
    "        for _ in range(-exponent):\n",
    "            result *= base\n",
    "        result = 1 / result\n",
    "    \n",
    "    return result\n",
    "\n",
    "# Prompt the user for input\n",
    "try:\n",
    "    base = float(input(\"Enter the base number: \"))\n",
    "    exponent = int(input(\"Enter the exponent: \"))\n",
    "\n",
    "    # Calculate the power and display the result\n",
    "    result = power(base, exponent)\n",
    "    print(f\"{base} raised to the power of {exponent} is: {result}\")\n",
    "except ValueError:\n",
    "    print(\"Please enter valid numbers.\")"
   ]
  },
  {
   "cell_type": "code",
   "execution_count": null,
   "id": "82367d0e-9ba0-4f71-96d2-d79de5b63c2c",
   "metadata": {},
   "outputs": [],
   "source": []
  }
 ],
 "metadata": {
  "kernelspec": {
   "display_name": "Python 3 (ipykernel)",
   "language": "python",
   "name": "python3"
  },
  "language_info": {
   "codemirror_mode": {
    "name": "ipython",
    "version": 3
   },
   "file_extension": ".py",
   "mimetype": "text/x-python",
   "name": "python",
   "nbconvert_exporter": "python",
   "pygments_lexer": "ipython3",
   "version": "3.11.7"
  }
 },
 "nbformat": 4,
 "nbformat_minor": 5
}
