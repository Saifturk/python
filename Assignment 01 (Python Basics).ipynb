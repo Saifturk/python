{
 "cells": [
  {
   "cell_type": "markdown",
   "metadata": {},
   "source": [
    "1. Print Your Name with your Father name and Date of birth using suitable escape sequence charactor"
   ]
  },
  {
   "cell_type": "code",
   "execution_count": 2,
   "metadata": {},
   "outputs": [
    {
     "name": "stdout",
     "output_type": "stream",
     "text": [
      "\n",
      "My Name is: Saif Ur Rehman Turk \n",
      "My Father Name Is: Mujeeb Turk \n",
      "Date Of Birth is: 09/04/2003\n"
     ]
    }
   ],
   "source": [
    "Name = \"Saif Ur Rehman Turk\"\n",
    "Father_Name = \"Mujeeb Turk\"\n",
    "Date_of_Birth = \"09/04/2003\"\n",
    "\n",
    "print(\"\\nMy Name is:\",Name , \"\\nMy Father Name Is:\", Father_Name ,  \"\\nDate Of Birth is:\",Date_of_Birth  )"
   ]
  },
  {
   "cell_type": "markdown",
   "metadata": {},
   "source": [
    "2. Write your small bio using variables and print it using print function"
   ]
  },
  {
   "cell_type": "code",
   "execution_count": null,
   "metadata": {},
   "outputs": [],
   "source": [
    "I am currently pursuing a Bachelor of Cyber Security (BSCY) from Karachi. Alongside the studies,My dedication to both academic and professional growth exemplifies my commitment to excellence and continuous improvement in the business field."
   ]
  },
  {
   "cell_type": "markdown",
   "metadata": {},
   "source": [
    "3. Write a program in which use all the operators we can use in Python"
   ]
  },
  {
   "cell_type": "code",
   "execution_count": 4,
   "metadata": {},
   "outputs": [
    {
     "name": "stdout",
     "output_type": "stream",
     "text": [
      "5 -1 6 0.6666666666666666 2 8 1\n"
     ]
    }
   ],
   "source": [
    "addition = 2+3 #5\n",
    "subtraction = 2-3 #-1\n",
    "multiplication = 2*3 #6\n",
    "division = 2/3 #0.6666\n",
    "modulus = 2%3 #2\n",
    "exponent = 2**3 #8\n",
    "floor = 3//2 #1\n",
    "\n",
    "print(addition, subtraction, multiplication,  division, modulus, exponent, floor)"
   ]
  },
  {
   "cell_type": "markdown",
   "metadata": {},
   "source": [
    "4. Completes the following steps of small task:\n",
    "    - Mention Marks of English , Islamiat and Maths out of 100 in 3 different variables\n",
    "    - Mention Variable of Total Marks and assign 300 to it\n",
    "    - Calculate Percentage"
   ]
  },
  {
   "cell_type": "code",
   "execution_count": 7,
   "metadata": {},
   "outputs": [
    {
     "name": "stdout",
     "output_type": "stream",
     "text": [
      "80.0\n"
     ]
    }
   ],
   "source": [
    "English = 70\n",
    "Islamiyat = 80\n",
    "Math = 90\n",
    "Total_Marks = 300\n",
    "Marks_Obtained = (English+Islamiyat+Math)\n",
    "Percentage = Marks_Obtained*100/Total_Marks\n",
    "print(Percentage)"
   ]
  },
  {
   "cell_type": "markdown",
   "metadata": {},
   "source": [
    "# Part -2 Python Basics (Conditional Statements)"
   ]
  },
  {
   "cell_type": "markdown",
   "metadata": {},
   "source": [
    "1) A company decided to give bonus of 5% to employee if his/her year of service is more than 5 years.\n",
    "Ask user for their salary and year of service and print the net bonus amount."
   ]
  },
  {
   "cell_type": "code",
   "execution_count": 8,
   "metadata": {},
   "outputs": [
    {
     "name": "stdin",
     "output_type": "stream",
     "text": [
      "How Many Year have you been working in this Company: 30\n"
     ]
    },
    {
     "name": "stdout",
     "output_type": "stream",
     "text": [
      "Congrats! You are Eligible for Net Bonus \n"
     ]
    }
   ],
   "source": [
    "services_year = int(input(\"How Many Year have you been working in this Company:\"))\n",
    "if services_year > 5:\n",
    "    print(\"Congrats! You are Eligible for Net Bonus \")"
   ]
  },
  {
   "cell_type": "markdown",
   "metadata": {},
   "source": [
    "\n",
    "2) Write a program to check whether a person is eligible for voting or not. (accept age from user) if age is greater than 17 eligible otherwise not eligible"
   ]
  },
  {
   "cell_type": "code",
   "execution_count": 9,
   "metadata": {},
   "outputs": [
    {
     "name": "stdin",
     "output_type": "stream",
     "text": [
      "Input Your Age: 30\n"
     ]
    },
    {
     "name": "stdout",
     "output_type": "stream",
     "text": [
      "You're Eligible for Voting\n"
     ]
    }
   ],
   "source": [
    "Age = int(input(\"Input Your Age:\"))\n",
    "if Age > 17:\n",
    "          print(\"You're Eligible for Voting\")\n",
    "else:\n",
    "          print(\"Please Come After The Age of 17 Years Old\")"
   ]
  },
  {
   "cell_type": "markdown",
   "metadata": {},
   "source": [
    "\n",
    "3) Write a program to check whether a number entered by user is even or odd."
   ]
  },
  {
   "cell_type": "code",
   "execution_count": 10,
   "metadata": {},
   "outputs": [
    {
     "name": "stdin",
     "output_type": "stream",
     "text": [
      "Input any Number: 80\n"
     ]
    },
    {
     "name": "stdout",
     "output_type": "stream",
     "text": [
      "Its Even Number\n"
     ]
    }
   ],
   "source": [
    "even_number_checker = int(input(\"Input any Number:\"))\n",
    "if even_number_checker %2 == 0:\n",
    "    print(\"Its Even Number\")\n",
    "else:\n",
    "    print(\"The Number You Entered Is ODD\")"
   ]
  },
  {
   "cell_type": "markdown",
   "metadata": {},
   "source": [
    "4) Write a program to check whether a number is divisible by 7 or not.\n",
    "Show Answer"
   ]
  },
  {
   "cell_type": "code",
   "execution_count": 11,
   "metadata": {},
   "outputs": [
    {
     "name": "stdin",
     "output_type": "stream",
     "text": [
      "Enter Any Number To check Its Divisible to 7 or Not 7\n"
     ]
    },
    {
     "name": "stdout",
     "output_type": "stream",
     "text": [
      "Yes! The Number You Entered is Divisible to 7\n"
     ]
    }
   ],
   "source": [
    "divisible_number = int(input(\"Enter Any Number To check Its Divisible to 7 or Not\"))\n",
    "if divisible_number % 7==0:\n",
    "    print(\"Yes! The Number You Entered is Divisible to 7\")\n",
    "else:\n",
    "    print(\"Try Another Number\")"
   ]
  },
  {
   "cell_type": "markdown",
   "metadata": {},
   "source": [
    "5) Write a program to display \n",
    "\"Hello\" if a number entered by user is a multiple of five , otherwise print \"Bye\"."
   ]
  },
  {
   "cell_type": "code",
   "execution_count": 13,
   "metadata": {},
   "outputs": [
    {
     "name": "stdin",
     "output_type": "stream",
     "text": [
      " 5\n"
     ]
    },
    {
     "name": "stdout",
     "output_type": "stream",
     "text": [
      "Hello\n"
     ]
    }
   ],
   "source": [
    "Number = int(input())\n",
    "if Number == 5:\n",
    "    print(\"Hello\")\n",
    "else:(\"Bye!\")"
   ]
  },
  {
   "cell_type": "markdown",
   "metadata": {},
   "source": [
    "7) Write a program to display the last digit of a number.\n"
   ]
  },
  {
   "cell_type": "code",
   "execution_count": 14,
   "metadata": {},
   "outputs": [
    {
     "name": "stdout",
     "output_type": "stream",
     "text": [
      "10\n"
     ]
    }
   ],
   "source": [
    "list  = [ 2,4,6,8,10]\n",
    "print(list[-1])"
   ]
  },
  {
   "cell_type": "markdown",
   "metadata": {},
   "source": [
    "9) Take values of length and breadth of a rectangle from user and print if it is square or rectangle."
   ]
  },
  {
   "cell_type": "code",
   "execution_count": 15,
   "metadata": {},
   "outputs": [
    {
     "name": "stdin",
     "output_type": "stream",
     "text": [
      " 2\n",
      " 3\n"
     ]
    },
    {
     "name": "stdout",
     "output_type": "stream",
     "text": [
      "Width and Length Not Equal So, its Rectangle\n"
     ]
    }
   ],
   "source": [
    "length = int(input())\n",
    "width = int(input())\n",
    "if length == width:\n",
    "    print(\"Lenth and Width are Equal So, Its Sequare\")\n",
    "else:\n",
    "    print(\"Width and Length Not Equal So, its Rectangle\")"
   ]
  },
  {
   "cell_type": "markdown",
   "metadata": {},
   "source": [
    "10) Take two int values from user and print greatest among them."
   ]
  },
  {
   "cell_type": "code",
   "execution_count": 16,
   "metadata": {},
   "outputs": [
    {
     "name": "stdin",
     "output_type": "stream",
     "text": [
      " 2\n",
      " 3\n"
     ]
    },
    {
     "name": "stdout",
     "output_type": "stream",
     "text": [
      "User2 Enter a Greater Number Than User1\n"
     ]
    }
   ],
   "source": [
    "user1 = int(input())\n",
    "user2 = int(input())\n",
    "if user1 > user2:\n",
    "    print(\"User 1 Entered a Greater Number Than User2\")\n",
    "elif user2 > user1:\n",
    "    print(\"User2 Enter a Greater Number Than User1\")"
   ]
  },
  {
   "cell_type": "markdown",
   "metadata": {},
   "source": [
    "11) A shop will give discount of 10% if the cost of purchased quantity is more than 1000.\n",
    "Ask user for quantity\n",
    "Suppose, one unit will cost 100.\n",
    "Judge and print total cost for user."
   ]
  },
  {
   "cell_type": "code",
   "execution_count": 21,
   "metadata": {},
   "outputs": [
    {
     "name": "stdin",
     "output_type": "stream",
     "text": [
      "How many items you purchases from our Store: 20\n"
     ]
    },
    {
     "name": "stdout",
     "output_type": "stream",
     "text": [
      "you get a dicount of: 200.0\n"
     ]
    }
   ],
   "source": [
    "Total_unit = int(input(\"How many items you purchases from our Store:\"))\n",
    "cost = Total_unit*100\n",
    "Purchase_Cost = 1000\n",
    "discount = 10\n",
    "if cost >= Purchase_Cost:\n",
    "    print(\"you get a dicount of:\", cost*10/100)"
   ]
  },
  {
   "cell_type": "markdown",
   "metadata": {},
   "source": [
    "12) A school has following rules for grading system:\n",
    "\n",
    "a. Below 25 - F\n",
    "\n",
    "b. 25 to 45 - E\n",
    "\n",
    "c. 45 to 50 - D\n",
    "\n",
    "d. 50 to 60 - C\n",
    "\n",
    "e. 60 to 80 - B\n",
    "\n",
    "f. Above 80 - A\n",
    "\n",
    "Ask user to enter marks and print the corresponding grade."
   ]
  },
  {
   "cell_type": "code",
   "execution_count": 22,
   "metadata": {},
   "outputs": [
    {
     "name": "stdin",
     "output_type": "stream",
     "text": [
      " 90\n"
     ]
    },
    {
     "name": "stdout",
     "output_type": "stream",
     "text": [
      "Grade A\n"
     ]
    }
   ],
   "source": [
    "Number = int(input())\n",
    "if Number >=80:\n",
    "    print(\"Grade A\")\n",
    "elif Number >=60:\n",
    "    print(\"Grade B\")\n",
    "elif Number >= 50:\n",
    "    print(\"Grade C\")\n",
    "elif Number >=45:\n",
    "    print(\"Grade D\")\n",
    "elif Number >= 25:\n",
    "    print(\"Grade E\")\n",
    "elif Number <= 25:\n",
    "    print(\"Grade F\")"
   ]
  },
  {
   "cell_type": "markdown",
   "metadata": {},
   "source": [
    "14)A student will not be allowed to sit in exam if his/her attendence is less than 75%.\n",
    "\n",
    "Take following input from user\n",
    "\n",
    "- Number of classes held\n",
    "\n",
    "- Number of classes attended.\n",
    "\n",
    "And print\n",
    "\n",
    "- percentage of class attended\n",
    "\n",
    "- Is student is allowed to sit in exam or not.\n"
   ]
  },
  {
   "cell_type": "code",
   "execution_count": 25,
   "metadata": {},
   "outputs": [
    {
     "name": "stdin",
     "output_type": "stream",
     "text": [
      "How Many classes Held: 406\n",
      "How Many Classes You Attend: 203\n"
     ]
    },
    {
     "name": "stdout",
     "output_type": "stream",
     "text": [
      "You're Allowed to take part in Exam\n"
     ]
    }
   ],
   "source": [
    "Total_Classes_Held = int(input(\"How Many classes Held:\"))\n",
    "Classes_Attended = int(input(\"How Many Classes You Attend:\"))\n",
    "if Classes_Attended >= 9:\n",
    "                       print(\"You're Allowed to take part in Exam\")\n",
    "else:\n",
    "                             print(\"Not Allowed! Your Attendence Is Less than 75%\")"
   ]
  },
  {
   "cell_type": "markdown",
   "metadata": {},
   "source": [
    "15) Modify the above question to allow student to sit if he/she has medical cause. Ask user if he/she has medical cause or not ( 'Y' or 'N' ) and print accordingly."
   ]
  },
  {
   "cell_type": "code",
   "execution_count": 27,
   "metadata": {},
   "outputs": [
    {
     "name": "stdin",
     "output_type": "stream",
     "text": [
      "How Many classes Held: 300\n",
      "How Many Classes You Attend: 100\n",
      "Do you have a medical cause? (Y/N):  y\n"
     ]
    },
    {
     "name": "stdout",
     "output_type": "stream",
     "text": [
      "You're Allowed to take part in Exam\n"
     ]
    }
   ],
   "source": [
    "Total_Classes_Held = int(input(\"How Many classes Held:\"))\n",
    "Classes_Attended = int(input(\"How Many Classes You Attend:\"))\n",
    "Medical_Cause = (input(\"Do you have a medical cause? (Y/N): \")).upper()\n",
    "if Classes_Attended >= 9:\n",
    "    print(\"You're Allowed to take part in Exam\")   \n",
    "elif Medical_Cause == \"Y\":\n",
    "                       print(\"You're Allowed to take part in Exam\")\n",
    "else:\n",
    "                             print(\"Not Allowed! Your Attendence Is Less than 75%\")"
   ]
  },
  {
   "cell_type": "markdown",
   "metadata": {},
   "source": [
    "16) Write a program to check if a year is leap year or not.\n",
    "\n",
    "If a year is divisible by 4 then it is leap year but if the year is century year like 2000, 1900, 2100 then it must be divisible by 400."
   ]
  },
  {
   "cell_type": "code",
   "execution_count": 28,
   "metadata": {},
   "outputs": [
    {
     "name": "stdin",
     "output_type": "stream",
     "text": [
      "Enter Year:  20\n"
     ]
    },
    {
     "name": "stdout",
     "output_type": "stream",
     "text": [
      "It's a Leap Year\n"
     ]
    }
   ],
   "source": [
    "Year = int(input(\"Enter Year: \"))\n",
    "if Year % 4 == 0:\n",
    "    if Year % 100 == 0:\n",
    "        if Year % 400 == 0:\n",
    "            print(\"It's a Leap Year\")\n",
    "        else:\n",
    "            print(\"It's NOT a Leap Year\")\n",
    "    else:\n",
    "        print(\"It's a Leap Year\")\n",
    "else:\n",
    "    print(\"It's NOT a Leap Year\")"
   ]
  },
  {
   "cell_type": "markdown",
   "metadata": {},
   "source": [
    "17) Ask user to enter age, gender ( M or F ), marital status ( Y or N ) and then using following rules print their place of service.\n",
    "\n",
    "if employee is female, then she will work only in urban areas.\n",
    "\n",
    "if employee is a male and age is in between 20 to 40 then he may work in anywhere\n",
    "\n",
    "if employee is male and age is in between 40 t0 60 then he will work in urban areas only.\n",
    "\n",
    "And any other input of age should print \"ERROR\""
   ]
  },
  {
   "cell_type": "code",
   "execution_count": 29,
   "metadata": {},
   "outputs": [
    {
     "name": "stdin",
     "output_type": "stream",
     "text": [
      "Please Enter Your Age:  25\n",
      "Please Specify Your Gender (M/F):  m\n",
      "Are You Married? (Y/N):  n\n"
     ]
    },
    {
     "name": "stdout",
     "output_type": "stream",
     "text": [
      "ERROR\n"
     ]
    }
   ],
   "source": [
    "Age = int(input(\"Please Enter Your Age: \"))\n",
    "Gender = input(\"Please Specify Your Gender (M/F): \")\n",
    "Marital_Status = input(\"Are You Married? (Y/N): \")\n",
    "\n",
    "if Gender == \"F\":\n",
    "    print(\"You Can Work Only In Urban Areas\")\n",
    "elif Gender == \"M\":\n",
    "    if 20 <= Age <= 40:\n",
    "        print(\"You Can Work Anywhere\")\n",
    "    elif 40 < Age <= 60:\n",
    "        print(\"You Can Work In Urban Areas Only\")\n",
    "    else:\n",
    "        print(\"ERROR\")\n",
    "else:\n",
    "    print(\"ERROR\")"
   ]
  },
  {
   "cell_type": "markdown",
   "metadata": {},
   "source": []
  },
  {
   "cell_type": "markdown",
   "metadata": {},
   "source": [
    "6) Write a program to calculate the electricity bill (accept number of unit from user) according to the following criteria :\n",
    "     Unit                                                     Price  \n",
    "uptp 100 units                                             no charge\n",
    "Next 200 units                                              Rs 5 per unit\n",
    "After 200 units                                             Rs 10 per unit\n",
    "(For example if input unit is 350 than total bill amount is Rs.3500\n",
    "(For example if input unit is 97 than total bill amount is Rs.0\n",
    "(For example if input unit is 150 than total bill amount is Rs.750"
   ]
  },
  {
   "cell_type": "code",
   "execution_count": 1,
   "metadata": {},
   "outputs": [
    {
     "name": "stdin",
     "output_type": "stream",
     "text": [
      "Enter the number of units:  300\n"
     ]
    },
    {
     "name": "stdout",
     "output_type": "stream",
     "text": [
      "The total bill amount is Rs. 1000\n"
     ]
    }
   ],
   "source": [
    "# Function to calculate electricity bill\n",
    "def calculate_bill(units):\n",
    "    if units <= 100:\n",
    "        bill = 0\n",
    "    elif units <= 300:\n",
    "        bill = (units - 100) * 5\n",
    "    else:\n",
    "        bill = (200 * 5) + ((units - 300) * 10)\n",
    "    return bill\n",
    "\n",
    "# Taking input of number of units from the user\n",
    "units = int(input(\"Enter the number of units: \"))\n",
    "\n",
    "# Calculate the bill\n",
    "bill_amount = calculate_bill(units)\n",
    "\n",
    "# Output the result\n",
    "print(f\"The total bill amount is Rs. {bill_amount}\")"
   ]
  },
  {
   "cell_type": "code",
   "execution_count": null,
   "metadata": {},
   "outputs": [],
   "source": []
  }
 ],
 "metadata": {
  "kernelspec": {
   "display_name": "Python 3 (ipykernel)",
   "language": "python",
   "name": "python3"
  },
  "language_info": {
   "codemirror_mode": {
    "name": "ipython",
    "version": 3
   },
   "file_extension": ".py",
   "mimetype": "text/x-python",
   "name": "python",
   "nbconvert_exporter": "python",
   "pygments_lexer": "ipython3",
   "version": "3.11.7"
  }
 },
 "nbformat": 4,
 "nbformat_minor": 4
}
