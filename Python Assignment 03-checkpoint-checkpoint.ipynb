{
 "cells": [
  {
   "cell_type": "code",
   "execution_count": 8,
   "id": "b12f26c0-51d6-4d16-a8b1-68ea48a025bb",
   "metadata": {},
   "outputs": [],
   "source": [
    "def count_vowels(string):\n",
    "    vowels = \"aeiouAEIOU\"\n",
    "    vowel_count = 0\n",
    "    for i in string:\n",
    "        if i in vowels:\n",
    "            vowel_count += 1\n",
    "            \n",
    "    return vowel_count"
   ]
  },
  {
   "cell_type": "code",
   "execution_count": null,
   "id": "ab2fc440-7391-46e9-9353-33228ba9722b",
   "metadata": {},
   "outputs": [],
   "source": []
  },
  {
   "cell_type": "code",
   "execution_count": 16,
   "id": "3a1a3dac-c021-47a4-af73-af75dfb27a89",
   "metadata": {},
   "outputs": [
    {
     "name": "stdin",
     "output_type": "stream",
     "text": [
      "Enter a string:  Saylani Mass It Training\n"
     ]
    },
    {
     "name": "stdout",
     "output_type": "stream",
     "text": [
      "The number of vowels in the string is: 8\n"
     ]
    }
   ],
   "source": [
    "user_input = input(\"Enter a string: \")\n",
    "vowel_count = count_vowels(user_input)\n",
    "print(f\"The number of vowels in the string is: {vowel_count}\")"
   ]
  },
  {
   "cell_type": "code",
   "execution_count": 18,
   "id": "36cc2a06-aed9-464c-87b8-84e524e465b2",
   "metadata": {},
   "outputs": [
    {
     "name": "stdin",
     "output_type": "stream",
     "text": [
      "Enter a string:  Saylani Mass IT Training Street 786\n"
     ]
    },
    {
     "name": "stdout",
     "output_type": "stream",
     "text": [
      "Number of uppercase letters: 6\n",
      "Number of lowercase letters: 21\n",
      "Number of digits: 3\n",
      "Number of whitespace characters: 5\n"
     ]
    }
   ],
   "source": [
    "# Function to analyze the string\n",
    "def analyze_string(input_string):\n",
    "    # Initialize counters\n",
    "    uppercase_count = 0\n",
    "    lowercase_count = 0\n",
    "    digit_count = 0\n",
    "    whitespace_count = 0\n",
    "    \n",
    "    # Iterate through the string and count each type of character\n",
    "    for char in input_string:\n",
    "        if char.isupper():\n",
    "            uppercase_count += 1\n",
    "        elif char.islower():\n",
    "            lowercase_count += 1\n",
    "        elif char.isdigit():\n",
    "            digit_count += 1\n",
    "        elif char.isspace():\n",
    "            whitespace_count += 1\n",
    "            \n",
    "    return uppercase_count, lowercase_count, digit_count, whitespace_count\n",
    "\n",
    "# Get input from the user\n",
    "user_input = input(\"Enter a string: \")\n",
    "\n",
    "# Analyze the string\n",
    "uppercase_count, lowercase_count, digit_count, whitespace_count = analyze_string(user_input)\n",
    "\n",
    "# Display the results\n",
    "print(f\"Number of uppercase letters: {uppercase_count}\")\n",
    "print(f\"Number of lowercase letters: {lowercase_count}\")\n",
    "print(f\"Number of digits: {digit_count}\")\n",
    "print(f\"Number of whitespace characters: {whitespace_count}\")"
   ]
  },
  {
   "cell_type": "code",
   "execution_count": 20,
   "id": "3e469ff7-3f25-444d-be29-c1c501cef6f6",
   "metadata": {},
   "outputs": [
    {
     "name": "stdin",
     "output_type": "stream",
     "text": [
      "Enter a string:  hello\n"
     ]
    },
    {
     "name": "stdout",
     "output_type": "stream",
     "text": [
      "New string after exchanging first and last characters: oellh\n"
     ]
    }
   ],
   "source": [
    "# Function to exchange first and last characters of a string\n",
    "def exchange_first_last(input_string):\n",
    "    # Check if the string has at least 2 characters\n",
    "    if len(input_string) < 2:\n",
    "        return input_string  # No change if the string is too short\n",
    "    \n",
    "    # Swap the first and last characters\n",
    "    new_string = input_string[-1] + input_string[1:-1] + input_string[0]\n",
    "    \n",
    "    return new_string\n",
    "\n",
    "# Get input from the user\n",
    "user_input = input(\"Enter a string: \")\n",
    "\n",
    "# Create and display the new string\n",
    "new_string = exchange_first_last(user_input)\n",
    "print(f\"New string after exchanging first and last characters: {new_string}\")\n"
   ]
  },
  {
   "cell_type": "code",
   "execution_count": 22,
   "id": "d2d634dc-c4a9-437b-817b-10b88f6a8629",
   "metadata": {},
   "outputs": [
    {
     "name": "stdin",
     "output_type": "stream",
     "text": [
      "Enter a string:  EXAM\n"
     ]
    },
    {
     "name": "stdout",
     "output_type": "stream",
     "text": [
      "The reversed string is: MAXE\n"
     ]
    }
   ],
   "source": [
    "# Function to reverse the string\n",
    "def reverse_string(input_string):\n",
    "    # Reverse the string using slicing\n",
    "    reversed_string = input_string[::-1]\n",
    "    \n",
    "    return reversed_string\n",
    "\n",
    "# Get input from the user\n",
    "user_input = input(\"Enter a string: \")\n",
    "\n",
    "# Create and display the reversed string\n",
    "reversed_string = reverse_string(user_input)\n",
    "print(f\"The reversed string is: {reversed_string}\")\n"
   ]
  },
  {
   "cell_type": "code",
   "execution_count": 3,
   "id": "d6546f63-e96a-4dfe-a314-954628900d2d",
   "metadata": {},
   "outputs": [
    {
     "name": "stdin",
     "output_type": "stream",
     "text": [
      "Enter a string:  123\n"
     ]
    },
    {
     "name": "stdout",
     "output_type": "stream",
     "text": [
      "The new string after shifting one position to the left: 231\n"
     ]
    }
   ],
   "source": [
    "# Function to shift string one position to the left\n",
    "def shift_left(input_string):\n",
    "    # Check if the string is non-empty\n",
    "    if len(input_string) < 1:\n",
    "        return input_string  # No change if the string is empty\n",
    "    \n",
    "    # Shift all characters one position to the left\n",
    "    shifted_string = input_string[1:] + input_string[0]\n",
    "    \n",
    "    return shifted_string\n",
    "\n",
    "# Get input from the user\n",
    "user_input = input(\"Enter a string: \")\n",
    "\n",
    "# Create and display the shifted string\n",
    "shifted_string = shift_left(user_input)\n",
    "print(f\"The new string after shifting one position to the left: {shifted_string}\")\n"
   ]
  },
  {
   "cell_type": "code",
   "execution_count": 4,
   "id": "4770708b-e4ff-4187-9b93-ed63210e47c3",
   "metadata": {},
   "outputs": [
    {
     "name": "stdin",
     "output_type": "stream",
     "text": [
      "Enter your full name (first name, middle name, last name):  Saif Ur Rehman Turk\n"
     ]
    },
    {
     "name": "stdout",
     "output_type": "stream",
     "text": [
      "Initials: S. U. R. T.\n"
     ]
    }
   ],
   "source": [
    "# Function to get initials from the full name\n",
    "def get_initials(full_name):\n",
    "    initials = \"\"\n",
    "    # Iterate over the characters in the full name\n",
    "    for i in range(len(full_name)):\n",
    "        # Check if the current character is the first letter or comes after a space\n",
    "        if i == 0 or full_name[i-1] == ' ':\n",
    "            initials += full_name[i].upper() + '. '\n",
    "    return initials.strip()\n",
    "\n",
    "# Ask the user to input his name\n",
    "user_name = input(\"Enter your full name (first name, middle name, last name): \")\n",
    "\n",
    "# Print the initials\n",
    "print(\"Initials:\", get_initials(user_name))\n"
   ]
  },
  {
   "cell_type": "code",
   "execution_count": 4,
   "id": "6cb95d46-4097-4300-ab46-ed22e70c7a20",
   "metadata": {},
   "outputs": [
    {
     "name": "stdin",
     "output_type": "stream",
     "text": [
      "Enter a string:  Saif\n"
     ]
    },
    {
     "name": "stdout",
     "output_type": "stream",
     "text": [
      "'Saif' is not a palindrome.\n"
     ]
    }
   ],
   "source": [
    "# Function to check if a string is a palindrome\n",
    "def is_palindrome(s):\n",
    "    # Initialize two pointers, one at the start and one at the end of the string\n",
    "    start = 0\n",
    "    end = len(s) - 1\n",
    "\n",
    "    # Compare characters while moving towards the center of the string\n",
    "    while start < end:\n",
    "        if s[start] != s[end]:\n",
    "            return False\n",
    "        start += 1\n",
    "        end -= 1\n",
    "    \n",
    "    return True\n",
    "\n",
    "# Ask the user to input a string\n",
    "user_input = input(\"Enter a string: \")\n",
    "\n",
    "# Check if the string is a palindrome\n",
    "if is_palindrome(user_input):\n",
    "    print(f\"'{user_input}' is a palindrome.\")\n",
    "else:\n",
    "    print(f\"'{user_input}' is not a palindrome.\")\n"
   ]
  },
  {
   "cell_type": "code",
   "execution_count": 6,
   "id": "5360382b-68ef-41e8-b96d-15f5120f4d99",
   "metadata": {},
   "outputs": [
    {
     "name": "stdout",
     "output_type": "stream",
     "text": [
      "SHIFT\n",
      "HIFTS\n",
      "IFTSH\n",
      "FTSHI\n",
      "TSHIF\n"
     ]
    }
   ],
   "source": [
    "# Function to display the shifted versions of the string\n",
    "def display_shifts(s):\n",
    "    length = len(s)\n",
    "    for i in range(length):\n",
    "        # Display the string starting from index i and then concatenating the first part\n",
    "        shifted_string = s[i:] + s[:i]\n",
    "        print(shifted_string)\n",
    "\n",
    "# Input string\n",
    "input_string = \"SHIFT\"\n",
    "\n",
    "# Call the function to display the shifts\n",
    "display_shifts(input_string)\n"
   ]
  },
  {
   "cell_type": "code",
   "execution_count": 5,
   "id": "4afddeef-04d3-43e0-88ad-ff2dff2331a6",
   "metadata": {},
   "outputs": [
    {
     "name": "stdin",
     "output_type": "stream",
     "text": [
      "Enter your password:  turk12\n"
     ]
    },
    {
     "name": "stdout",
     "output_type": "stream",
     "text": [
      "Password must be at least 8 characters long.\n"
     ]
    }
   ],
   "source": [
    "import re\n",
    "\n",
    "# Function to validate the password\n",
    "def validate_password(password):\n",
    "    # Check if the password is at least 8 characters long\n",
    "    if len(password) < 8:\n",
    "        return False, \"Password must be at least 8 characters long.\"\n",
    "    \n",
    "    # Check if the password contains at least one uppercase letter\n",
    "    if not re.search(r'[A-Z]', password):\n",
    "        return False, \"Password must contain at least one uppercase letter.\"\n",
    "    \n",
    "    # Check if the password contains at least one lowercase letter\n",
    "    if not re.search(r'[a-z]', password):\n",
    "        return False, \"Password must contain at least one lowercase letter.\"\n",
    "    \n",
    "    # Check if the password contains at least one numeric digit\n",
    "    if not re.search(r'[0-9]', password):\n",
    "        return False, \"Password must contain at least one numeric digit.\"\n",
    "    \n",
    "    return True, \"Password is valid.\"\n",
    "\n",
    "# Ask the user to input a password\n",
    "user_password = input(\"Enter your password: \")\n",
    "\n",
    "# Validate the password\n",
    "is_valid, message = validate_password(user_password)\n",
    "\n",
    "# Display the result\n",
    "print(message)\n"
   ]
  },
  {
   "cell_type": "code",
   "execution_count": null,
   "id": "1c2d6e95-4b33-4b10-bb30-2c74b85be59a",
   "metadata": {},
   "outputs": [],
   "source": []
  }
 ],
 "metadata": {
  "kernelspec": {
   "display_name": "Python 3 (ipykernel)",
   "language": "python",
   "name": "python3"
  },
  "language_info": {
   "codemirror_mode": {
    "name": "ipython",
    "version": 3
   },
   "file_extension": ".py",
   "mimetype": "text/x-python",
   "name": "python",
   "nbconvert_exporter": "python",
   "pygments_lexer": "ipython3",
   "version": "3.11.7"
  }
 },
 "nbformat": 4,
 "nbformat_minor": 5
}
