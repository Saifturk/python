{
 "cells": [
  {
   "cell_type": "markdown",
   "metadata": {
    "id": "XLFr4w_7OFN7"
   },
   "source": [
    "1. Write a Python program to create a class representing a Circle. Include methods to calculate its area and perimeter."
   ]
  },
  {
   "cell_type": "code",
   "execution_count": 7,
   "metadata": {},
   "outputs": [
    {
     "name": "stdout",
     "output_type": "stream",
     "text": [
      "Area: 78.54\n",
      "Perimeter: 31.42\n"
     ]
    }
   ],
   "source": [
    "import math\n",
    "\n",
    "class Circle:\n",
    "    def __init__(self, radius):\n",
    "        self.radius = radius\n",
    "\n",
    "    def area(self):\n",
    "        \"\"\"Calculate the area of the circle.\"\"\"\n",
    "        return math.pi * self.radius ** 2\n",
    "\n",
    "    def perimeter(self):\n",
    "        \"\"\"Calculate the perimeter (circumference) of the circle.\"\"\"\n",
    "        return 2 * math.pi * self.radius\n",
    "\n",
    "# Example usage:\n",
    "circle = Circle(5)  # Circle with radius 5\n",
    "\n",
    "print(f\"Area: {circle.area():.2f}\")\n",
    "print(f\"Perimeter: {circle.perimeter():.2f}\")\n",
    "\n"
   ]
  },
  {
   "cell_type": "markdown",
   "metadata": {
    "id": "CBPk4mH4OTCO"
   },
   "source": [
    "2. Write a Python program to create a person class. Include attributes like name, country and date of birth. Implement a method to determine the person's age.\n"
   ]
  },
  {
   "cell_type": "code",
   "execution_count": 5,
   "metadata": {},
   "outputs": [
    {
     "name": "stdout",
     "output_type": "stream",
     "text": [
      "Name: Saif Turk\n",
      "Country: Pakistan\n",
      "Date of Birth: 2003-04-09\n",
      "Age: 21 years\n"
     ]
    }
   ],
   "source": [
    "from datetime import datetime\n",
    "\n",
    "class Person:\n",
    "    def __init__(self, name, country, date_of_birth):\n",
    "        \"\"\"\n",
    "        Initialize the Person object with name, country, and date of birth.\n",
    "        \n",
    "        :param name: The name of the person\n",
    "        :param country: The country where the person is from\n",
    "        :param date_of_birth: The person's date of birth in 'YYYY-MM-DD' format\n",
    "        \"\"\"\n",
    "        self.name = name\n",
    "        self.country = country\n",
    "        self.date_of_birth = datetime.strptime(date_of_birth, '%Y-%m-%d')\n",
    "\n",
    "    def calculate_age(self):\n",
    "        \"\"\"Calculate and return the person's age based on the current date.\"\"\"\n",
    "        today = datetime.today()\n",
    "        age = today.year - self.date_of_birth.year\n",
    "        \n",
    "        # Adjust age if the person's birthday has not occurred yet this year\n",
    "        if (today.month, today.day) < (self.date_of_birth.month, self.date_of_birth.day):\n",
    "            age -= 1\n",
    "        return age\n",
    "\n",
    "# Example usage:\n",
    "person = Person(\"Saif Turk\", \"Pakistan\", \"2003-04-09\")\n",
    "\n",
    "print(f\"Name: {person.name}\")\n",
    "print(f\"Country: {person.country}\")\n",
    "print(f\"Date of Birth: {person.date_of_birth.strftime('%Y-%m-%d')}\")\n",
    "print(f\"Age: {person.calculate_age()} years\")\n"
   ]
  },
  {
   "cell_type": "markdown",
   "metadata": {},
   "source": [
    "3. Write a Python program to create a calculator class. Include methods for basic arithmetic operations."
   ]
  },
  {
   "cell_type": "code",
   "execution_count": 6,
   "metadata": {},
   "outputs": [
    {
     "name": "stdout",
     "output_type": "stream",
     "text": [
      "10 + 5 = 15\n",
      "10 - 5 = 5\n",
      "10 * 5 = 50\n",
      "10 / 5 = 2.0\n"
     ]
    }
   ],
   "source": [
    "class Calculator:\n",
    "    def add(self, a, b):\n",
    "        \"\"\"Return the sum of two numbers.\"\"\"\n",
    "        return a + b\n",
    "\n",
    "    def subtract(self, a, b):\n",
    "        \"\"\"Return the difference of two numbers.\"\"\"\n",
    "        return a - b\n",
    "\n",
    "    def multiply(self, a, b):\n",
    "        \"\"\"Return the product of two numbers.\"\"\"\n",
    "        return a * b\n",
    "\n",
    "    def divide(self, a, b):\n",
    "        \"\"\"Return the quotient of two numbers. Raise an error if dividing by zero.\"\"\"\n",
    "        if b == 0:\n",
    "            raise ValueError(\"Cannot divide by zero\")\n",
    "        return a / b\n",
    "\n",
    "# Example usage:\n",
    "calc = Calculator()\n",
    "\n",
    "# Perform basic arithmetic operations\n",
    "num1 = 10\n",
    "num2 = 5\n",
    "\n",
    "print(f\"{num1} + {num2} = {calc.add(num1, num2)}\")\n",
    "print(f\"{num1} - {num2} = {calc.subtract(num1, num2)}\")\n",
    "print(f\"{num1} * {num2} = {calc.multiply(num1, num2)}\")\n",
    "print(f\"{num1} / {num2} = {calc.divide(num1, num2)}\")\n"
   ]
  },
  {
   "cell_type": "code",
   "execution_count": null,
   "metadata": {},
   "outputs": [],
   "source": []
  }
 ],
 "metadata": {
  "colab": {
   "provenance": []
  },
  "kernelspec": {
   "display_name": "Python 3 (ipykernel)",
   "language": "python",
   "name": "python3"
  },
  "language_info": {
   "codemirror_mode": {
    "name": "ipython",
    "version": 3
   },
   "file_extension": ".py",
   "mimetype": "text/x-python",
   "name": "python",
   "nbconvert_exporter": "python",
   "pygments_lexer": "ipython3",
   "version": "3.11.7"
  }
 },
 "nbformat": 4,
 "nbformat_minor": 4
}
