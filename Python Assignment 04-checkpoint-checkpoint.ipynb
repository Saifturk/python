{
 "cells": [
  {
   "cell_type": "code",
   "execution_count": 5,
   "id": "2482b392-23d7-4489-af43-d51dfed49265",
   "metadata": {},
   "outputs": [
    {
     "name": "stdin",
     "output_type": "stream",
     "text": [
      "Enter elements of the list separated by spaces:  6 7 8 9 0\n"
     ]
    },
    {
     "name": "stdout",
     "output_type": "stream",
     "text": [
      "Alternate elements of the list are:\n",
      "6\n",
      "8\n",
      "0\n"
     ]
    }
   ],
   "source": [
    "# Function to print alternate elements of a list\n",
    "def print_alternate_elements(lst):\n",
    "    print(\"Alternate elements of the list are:\")\n",
    "    for i in range(0, len(lst), 2):\n",
    "        print(lst[i])\n",
    "\n",
    "# Ask the user to input a list of elements\n",
    "user_input = input(\"Enter elements of the list separated by spaces: \")\n",
    "\n",
    "# Convert the input string into a list of elements\n",
    "user_list = user_input.split()\n",
    "\n",
    "# Print the alternate elements of the list\n",
    "print_alternate_elements(user_list)\n"
   ]
  },
  {
   "cell_type": "code",
   "execution_count": 7,
   "id": "3a3fa76f-94e3-4458-b547-610deb4b7911",
   "metadata": {},
   "outputs": [
    {
     "name": "stdin",
     "output_type": "stream",
     "text": [
      "Enter elements of the list separated by spaces:  saif turk\n"
     ]
    },
    {
     "name": "stdout",
     "output_type": "stream",
     "text": [
      "Reversed list: ['turk', 'saif']\n"
     ]
    }
   ],
   "source": [
    "# Function to reverse a list\n",
    "def reverse_list(lst):\n",
    "    # Initialize an empty list to store the reversed elements\n",
    "    reversed_list = []\n",
    "    \n",
    "    # Iterate over the list from the end to the beginning\n",
    "    for i in range(len(lst) - 1, -1, -1):\n",
    "        reversed_list.append(lst[i])\n",
    "    \n",
    "    return reversed_list\n",
    "\n",
    "# Ask the user to input a list of elements\n",
    "user_input = input(\"Enter elements of the list separated by spaces: \")\n",
    "\n",
    "# Convert the input string into a list of elements\n",
    "user_list = user_input.split()\n",
    "\n",
    "# Reverse the list\n",
    "reversed_list = reverse_list(user_list)\n",
    "\n",
    "# Print the reversed list\n",
    "print(\"Reversed list:\", reversed_list)\n"
   ]
  },
  {
   "cell_type": "code",
   "execution_count": 9,
   "id": "6b3d026e-91fd-4cef-80b9-52da6d9f3f4a",
   "metadata": {},
   "outputs": [
    {
     "name": "stdin",
     "output_type": "stream",
     "text": [
      "Enter numbers in the list separated by spaces:  34 45 44 \n"
     ]
    },
    {
     "name": "stdout",
     "output_type": "stream",
     "text": [
      "The largest number in the list is: 45\n"
     ]
    }
   ],
   "source": [
    "# Function to find the largest number in a list\n",
    "def find_largest(lst):\n",
    "    # Assume the first element is the largest\n",
    "    largest = lst[0]\n",
    "    \n",
    "    # Iterate over the list to find the largest number\n",
    "    for num in lst:\n",
    "        if num > largest:\n",
    "            largest = num\n",
    "    \n",
    "    return largest\n",
    "\n",
    "# Ask the user to input a list of numbers\n",
    "user_input = input(\"Enter numbers in the list separated by spaces: \")\n",
    "\n",
    "# Convert the input string into a list of numbers\n",
    "user_list = [int(x) for x in user_input.split()]\n",
    "\n",
    "# Find the largest number in the list\n",
    "largest_number = find_largest(user_list)\n",
    "\n",
    "# Display the largest number\n",
    "print(\"The largest number in the list is:\", largest_number)\n"
   ]
  },
  {
   "cell_type": "code",
   "execution_count": 11,
   "id": "16b2046e-9fc2-4f8e-acbd-5acf04dcca62",
   "metadata": {},
   "outputs": [
    {
     "name": "stdin",
     "output_type": "stream",
     "text": [
      "Enter elements of the list separated by spaces:  5 6 8 7\n"
     ]
    },
    {
     "name": "stdout",
     "output_type": "stream",
     "text": [
      "Rotated list: ['7', '5', '6', '8']\n"
     ]
    }
   ],
   "source": [
    "# Function to rotate elements of a list\n",
    "def rotate_list(lst):\n",
    "    if len(lst) == 0:\n",
    "        return lst\n",
    "    # Store the last element\n",
    "    last_element = lst[-1]\n",
    "    \n",
    "    # Shift all elements to the right\n",
    "    for i in range(len(lst) - 1, 0, -1):\n",
    "        lst[i] = lst[i - 1]\n",
    "    \n",
    "    # Place the last element at the first index\n",
    "    lst[0] = last_element\n",
    "    \n",
    "    return lst\n",
    "\n",
    "# Ask the user to input a list of elements\n",
    "user_input = input(\"Enter elements of the list separated by spaces: \")\n",
    "\n",
    "# Convert the input string into a list of elements\n",
    "user_list = user_input.split()\n",
    "\n",
    "# Rotate the list\n",
    "rotated_list = rotate_list(user_list)\n",
    "\n",
    "# Display the rotated list\n",
    "print(\"Rotated list:\", rotated_list)\n"
   ]
  },
  {
   "cell_type": "code",
   "execution_count": 18,
   "id": "94b2bacb-89f5-4cf5-96ed-8fbae20a9439",
   "metadata": {},
   "outputs": [
    {
     "name": "stdin",
     "output_type": "stream",
     "text": [
      "Enter a string:  Hello Wprld!\n",
      "Enter the word you want to delete:  Wprld!\n"
     ]
    },
    {
     "name": "stdout",
     "output_type": "stream",
     "text": [
      "String after deleting the word: Hello\n"
     ]
    }
   ],
   "source": [
    "# Function to delete a specified word from a string\n",
    "def delete_word_from_string(s, word_to_delete):\n",
    "    # Split the string into a list of words\n",
    "    words = s.split()\n",
    "    \n",
    "    # Filter out the word to delete\n",
    "    result_words = [word for word in words if word != word_to_delete]\n",
    "    \n",
    "    # Join the remaining words back into a string\n",
    "    result_string = \" \".join(result_words)\n",
    "    \n",
    "    return result_string\n",
    "\n",
    "# Ask the user to input a string\n",
    "user_string = input(\"Enter a string: \")\n",
    "\n",
    "# Ask the user to input the word they want to delete\n",
    "word_to_delete = input(\"Enter the word you want to delete: \")\n",
    "\n",
    "# Delete the specified word from the string\n",
    "result = delete_word_from_string(user_string, word_to_delete)\n",
    "\n",
    "# Display the result\n",
    "print(\"String after deleting the word:\", result)\n"
   ]
  },
  {
   "cell_type": "code",
   "execution_count": 13,
   "id": "4c863257-f256-4cda-9e0b-aaf618564d7b",
   "metadata": {},
   "outputs": [
    {
     "name": "stdin",
     "output_type": "stream",
     "text": [
      "Enter a date in the format mm/dd/yyyy:  09/04/23\n"
     ]
    },
    {
     "name": "stdout",
     "output_type": "stream",
     "text": [
      "Formatted date: September 4, 23\n"
     ]
    }
   ],
   "source": [
    "# Function to convert date from mm/dd/yyyy to Month dd, yyyy\n",
    "def convert_date(date_str):\n",
    "    # List of month names\n",
    "    months = [\"January\", \"February\", \"March\", \"April\", \"May\", \"June\", \n",
    "              \"July\", \"August\", \"September\", \"October\", \"November\", \"December\"]\n",
    "    \n",
    "    # Split the input date into components\n",
    "    month, day, year = date_str.split(\"/\")\n",
    "    \n",
    "    # Convert month to the corresponding month name\n",
    "    month_name = months[int(month) - 1]\n",
    "    \n",
    "    # Return the formatted date\n",
    "    return f\"{month_name} {int(day)}, {year}\"\n",
    "\n",
    "# Ask the user to input a date in the format mm/dd/yyyy\n",
    "user_date = input(\"Enter a date in the format mm/dd/yyyy: \")\n",
    "\n",
    "# Convert and print the date in the desired format\n",
    "formatted_date = convert_date(user_date)\n",
    "print(\"Formatted date:\", formatted_date)\n"
   ]
  },
  {
   "cell_type": "code",
   "execution_count": 32,
   "id": "8b2a87f7-d2a3-4cf6-967b-5bf692ad866f",
   "metadata": {},
   "outputs": [
    {
     "name": "stdin",
     "output_type": "stream",
     "text": [
      "Enter a sentence:  saylani mass it Training\n"
     ]
    },
    {
     "name": "stdout",
     "output_type": "stream",
     "text": [
      "Capitalized sentence: Saylani Mass It Training\n"
     ]
    }
   ],
   "source": [
    "# Function to capitalize the first letter of each word in a string\n",
    "def capitalize_words(sentence):\n",
    "    # Split the sentence into words\n",
    "    words = sentence.split()\n",
    "    \n",
    "    # Capitalize the first letter of each word and join them back into a string\n",
    "    capitalized_words = [word.capitalize() for word in words]\n",
    "    \n",
    "    # Join the list of capitalized words into a single string\n",
    "    return ' '.join(capitalized_words)\n",
    "\n",
    "# Ask the user to input a sentence\n",
    "user_sentence = input(\"Enter a sentence: \")\n",
    "\n",
    "# Capitalize each word in the sentence\n",
    "capitalized_sentence = capitalize_words(user_sentence)\n",
    "\n",
    "# Display the result\n",
    "print(\"Capitalized sentence:\", capitalized_sentence)\n"
   ]
  },
  {
   "cell_type": "code",
   "execution_count": 15,
   "id": "66b6c303-3f24-41cb-a83e-2369e2fdd6a8",
   "metadata": {},
   "outputs": [
    {
     "name": "stdin",
     "output_type": "stream",
     "text": [
      "Enter the number of rows:  2\n",
      "Enter the number of columns:  2\n"
     ]
    },
    {
     "name": "stdout",
     "output_type": "stream",
     "text": [
      "Enter the matrix elements row by row (each row with 2 elements):\n"
     ]
    },
    {
     "name": "stdin",
     "output_type": "stream",
     "text": [
      "Enter row 1:  3 4\n",
      "Enter row 2:  5 5\n"
     ]
    },
    {
     "name": "stdout",
     "output_type": "stream",
     "text": [
      "Sum of row 1 = 7\n",
      "Sum of row 2 = 10\n"
     ]
    }
   ],
   "source": [
    "# Function to calculate the sum of each row in a matrix\n",
    "def sum_of_rows(matrix):\n",
    "    row_sums = []\n",
    "    for row in matrix:\n",
    "        row_sum = sum(row)\n",
    "        row_sums.append(row_sum)\n",
    "    return row_sums\n",
    "\n",
    "# Function to read matrix from user\n",
    "def read_matrix(m, n):\n",
    "    matrix = []\n",
    "    print(f\"Enter the matrix elements row by row (each row with {n} elements):\")\n",
    "    for i in range(m):\n",
    "        row = list(map(int, input(f\"Enter row {i + 1}: \").split()))\n",
    "        if len(row) != n:\n",
    "            print(f\"Error: Each row must contain {n} elements.\")\n",
    "            return None\n",
    "        matrix.append(row)\n",
    "    return matrix\n",
    "\n",
    "# Read matrix dimensions\n",
    "m = int(input(\"Enter the number of rows: \"))\n",
    "n = int(input(\"Enter the number of columns: \"))\n",
    "\n",
    "# Read the matrix from the user\n",
    "matrix = read_matrix(m, n)\n",
    "\n",
    "# If matrix reading was successful, calculate and print row sums\n",
    "if matrix:\n",
    "    # Calculate sum of each row\n",
    "    sums = sum_of_rows(matrix)\n",
    "    \n",
    "    # Display the sum of each row\n",
    "    for i, row_sum in enumerate(sums, start=1):\n",
    "        print(f\"Sum of row {i} = {row_sum}\")\n"
   ]
  },
  {
   "cell_type": "code",
   "execution_count": 41,
   "id": "b3674094-c379-40f8-ae6c-317d7decb8dc",
   "metadata": {},
   "outputs": [
    {
     "name": "stdin",
     "output_type": "stream",
     "text": [
      "Enter the number of rows:  2\n",
      "Enter the number of columns:  2\n"
     ]
    },
    {
     "name": "stdout",
     "output_type": "stream",
     "text": [
      "Enter the elements for matrix 1 row by row (each row with 2 elements):\n"
     ]
    },
    {
     "name": "stdin",
     "output_type": "stream",
     "text": [
      "Enter row 1:  5 8\n",
      "Enter row 2:  9 6\n"
     ]
    },
    {
     "name": "stdout",
     "output_type": "stream",
     "text": [
      "Enter the elements for matrix 2 row by row (each row with 2 elements):\n"
     ]
    },
    {
     "name": "stdin",
     "output_type": "stream",
     "text": [
      "Enter row 1:  8 7\n",
      "Enter row 2:  9 4\n"
     ]
    },
    {
     "name": "stdout",
     "output_type": "stream",
     "text": [
      "Sum of the two matrices:\n",
      "13 15\n",
      "18 10\n"
     ]
    }
   ],
   "source": [
    "# Function to read a matrix from the user\r\n",
    "def read_matrix(rows, cols, matrix_number):\r\n",
    "    matrix = []\r\n",
    "    print(f\"Enter the elements for matrix {matrix_number} row by row (each row with {cols} elements):\")\r\n",
    "    for i in range(rows):\r\n",
    "        row = list(map(int, input(f\"Enter row {i + 1}: \").split()))\r\n",
    "        if len(row) != cols:\r\n",
    "            print(f\"Error: Each row must contain {cols} elements.\")\r\n",
    "            return None\r\n",
    "        matrix.append(row)\r\n",
    "    return matrix\r\n",
    "\r\n",
    "# Function to add two matrices\r\n",
    "def add_matrices(matrix1, matrix2):\r\n",
    "    rows = len(matrix1)\r\n",
    "    cols = len(matrix1[0])\r\n",
    "    result = []\r\n",
    "    for i in range(rows):\r\n",
    "        row_sum = [matrix1[i][j] + matrix2[i][j] for j in range(cols)]\r\n",
    "        result.append(row_sum)\r\n",
    "    return result\r\n",
    "\r\n",
    "# Function to print a matrix\r\n",
    "def print_matrix(matrix):\r\n",
    "    for row in matrix:\r\n",
    "        print(\" \".join(map(str, row)))\r\n",
    "\r\n",
    "# Read matrix dimensions\r\n",
    "n = int(input(\"Enter the number of rows: \"))\r\n",
    "m = int(input(\"Enter the number of columns: \"))\r\n",
    "\r\n",
    "# Read the two matrices\r\n",
    "matrix1 = read_matrix(n, m, 1)\r\n",
    "matrix2 = read_matrix(n, m, 2)\r\n",
    "\r\n",
    "# Check if matrices were read successfully\r\n",
    "if matrix1 is not None and matrix2 is not None:\r\n",
    "    # Add the matrices\r\n",
    "    result_matrix = add_matrices(matrix1, matrix2)\r\n",
    "    \r\n",
    "    # Display the result\r\n",
    "    print(\"Sum of the two matrices:\")\r\n",
    "    print_matrix(result_matrix)\r\n"
   ]
  },
  {
   "cell_type": "code",
   "execution_count": 18,
   "id": "0ddaa880-d765-43ad-832b-bd448fea23b9",
   "metadata": {},
   "outputs": [
    {
     "name": "stdin",
     "output_type": "stream",
     "text": [
      "Enter the number of rows for matrix 1:  2\n",
      "Enter the number of columns for matrix 1:  2\n"
     ]
    },
    {
     "name": "stdout",
     "output_type": "stream",
     "text": [
      "Enter the elements for matrix 1 row by row (each row with 2 elements):\n"
     ]
    },
    {
     "name": "stdin",
     "output_type": "stream",
     "text": [
      "Enter row 1:  3 4\n",
      "Enter row 2:  5 6\n",
      "Enter the number of rows for matrix 2:  2\n",
      "Enter the number of columns for matrix 2:  2\n"
     ]
    },
    {
     "name": "stdout",
     "output_type": "stream",
     "text": [
      "Enter the elements for matrix 2 row by row (each row with 2 elements):\n"
     ]
    },
    {
     "name": "stdin",
     "output_type": "stream",
     "text": [
      "Enter row 1:  2 4\n",
      "Enter row 2:  5 6\n"
     ]
    },
    {
     "name": "stdout",
     "output_type": "stream",
     "text": [
      "Product of the two matrices:\n",
      "26 36\n",
      "40 56\n"
     ]
    }
   ],
   "source": [
    "# Function to read a matrix from the user\n",
    "def read_matrix(rows, cols, matrix_number):\n",
    "    matrix = []\n",
    "    print(f\"Enter the elements for matrix {matrix_number} row by row (each row with {cols} elements):\")\n",
    "    for i in range(rows):\n",
    "        row = list(map(int, input(f\"Enter row {i + 1}: \").split()))\n",
    "        if len(row) != cols:\n",
    "            print(f\"Error: Each row must contain {cols} elements.\")\n",
    "            return None\n",
    "        matrix.append(row)\n",
    "    return matrix\n",
    "\n",
    "# Function to multiply two matrices\n",
    "def multiply_matrices(matrix1, matrix2):\n",
    "    rows1 = len(matrix1)\n",
    "    cols1 = len(matrix1[0])\n",
    "    rows2 = len(matrix2)\n",
    "    cols2 = len(matrix2[0])\n",
    "\n",
    "    if cols1 != rows2:\n",
    "        print(\"Error: Number of columns of matrix 1 must be equal to number of rows of matrix 2.\")\n",
    "        return None\n",
    "\n",
    "    # Initialize the result matrix with zeros\n",
    "    result = [[0] * cols2 for _ in range(rows1)]\n",
    "\n",
    "    # Perform matrix multiplication\n",
    "    for i in range(rows1):\n",
    "        for j in range(cols2):\n",
    "            result[i][j] = sum(matrix1[i][k] * matrix2[k][j] for k in range(cols1))\n",
    "    \n",
    "    return result\n",
    "\n",
    "# Function to print a matrix\n",
    "def print_matrix(matrix):\n",
    "    for row in matrix:\n",
    "        print(\" \".join(map(str, row)))\n",
    "\n",
    "# Read the dimensions of the first matrix\n",
    "rows1 = int(input(\"Enter the number of rows for matrix 1: \"))\n",
    "cols1 = int(input(\"Enter the number of columns for matrix 1: \"))\n",
    "\n",
    "# Read the first matrix\n",
    "matrix1 = read_matrix(rows1, cols1, 1)\n",
    "\n",
    "# Read the dimensions of the second matrix\n",
    "rows2 = int(input(\"Enter the number of rows for matrix 2: \"))\n",
    "cols2 = int(input(\"Enter the number of columns for matrix 2: \"))\n",
    "\n",
    "# Read the second matrix\n",
    "matrix2 = read_matrix(rows2, cols2, 2)\n",
    "\n",
    "# Check if matrices were read successfully and can be multiplied\n",
    "if matrix1 is not None and matrix2 is not None and cols1 == rows2:\n",
    "    # Multiply the matrices\n",
    "    result_matrix = multiply_matrices(matrix1, matrix2)\n",
    "    \n",
    "    # Display the result\n",
    "    print(\"Product of the two matrices:\")\n",
    "    print_matrix(result_matrix)\n"
   ]
  },
  {
   "cell_type": "code",
   "execution_count": null,
   "id": "8cec1105-7ded-4c56-b927-b9a57a3c7285",
   "metadata": {},
   "outputs": [],
   "source": []
  }
 ],
 "metadata": {
  "kernelspec": {
   "display_name": "Python 3 (ipykernel)",
   "language": "python",
   "name": "python3"
  },
  "language_info": {
   "codemirror_mode": {
    "name": "ipython",
    "version": 3
   },
   "file_extension": ".py",
   "mimetype": "text/x-python",
   "name": "python",
   "nbconvert_exporter": "python",
   "pygments_lexer": "ipython3",
   "version": "3.11.7"
  }
 },
 "nbformat": 4,
 "nbformat_minor": 5
}
